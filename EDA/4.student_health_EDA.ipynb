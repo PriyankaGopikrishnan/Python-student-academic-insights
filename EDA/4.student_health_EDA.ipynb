{
 "cells": [
  {
   "cell_type": "code",
   "execution_count": null,
   "id": "bf78abab",
   "metadata": {},
   "outputs": [],
   "source": [
    "import pandas as pd\n",
    "\n",
    "# 📥 Step 1: Load cleaned student demographic and health datasets\n",
    "student_file = pd.read_csv('students_clean.csv')       # Contains columns like Student_ID, Gender, Age, Address\n",
    "health_file = pd.read_csv('health_clean.csv')          # Contains Student_ID and Health rating (ideally 1 to 5)\n",
    "\n",
    "# 🔗 Step 2: Merge both datasets on 'Student_ID' to combine student info with health ratings\n",
    "merge_file = pd.merge(student_file, health_file, on='Student_ID')\n",
    "\n",
    "# 🧾 Step 3: Check the merged dataset's structure and filter out invalid health ratings (>5)\n",
    "print(\"📋 Columns in merged dataset:\", merge_file.columns)\n",
    "\n",
    "# 🔍 Remove any rows with invalid health ratings (greater than 5)\n",
    "merge_file = merge_file[merge_file['Health'] < 6]\n",
    "\n",
    "# 👀 Preview the cleaned and merged data\n",
    "print(\"\\n✅ Merged data after removing invalid health scores:\\n\")\n",
    "print(merge_file)\n",
    "\n",
    "# 📊 Step 4: Calculate and print average health rating grouped by Gender\n",
    "gender_wise_health_rating = merge_file.groupby('Gender')['Health'].mean().reset_index()\n",
    "print(\"\\n📊 Average Health Rating by Gender:\")\n",
    "print(gender_wise_health_rating)\n",
    "\n",
    "# 📊 Step 5: Calculate and print average health rating grouped by Age\n",
    "age_wise_health_rating = merge_file.groupby('Age')['Health'].mean().reset_index()\n",
    "print(\"\\n📊 Average Health Rating by Age:\")\n",
    "print(age_wise_health_rating)\n",
    "\n",
    "# 📊 Step 6: Calculate and print average health rating grouped by Address type (Urban/Rural)\n",
    "address_wise_health_rating = merge_file.groupby('Address')['Health'].mean().reset_index()\n",
    "print(\"\\n📊 Average Health Rating by Address:\")\n",
    "print(address_wise_health_rating)\n"
   ]
  }
 ],
 "metadata": {},
 "nbformat": 4,
 "nbformat_minor": 5
}
