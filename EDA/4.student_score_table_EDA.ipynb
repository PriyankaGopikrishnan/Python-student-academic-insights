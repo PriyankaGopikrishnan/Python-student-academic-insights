{
 "cells": [
  {
   "cell_type": "code",
   "execution_count": null,
   "id": "fe9e2eff",
   "metadata": {},
   "outputs": [],
   "source": [
    "import pandas as pd\n",
    "import seaborn as sns\n",
    "import matplotlib.pyplot as plt\n",
    "\n",
    "# Reading the attendance.csv file using Pandas\n",
    "score_file = pd.read_csv('student_scores_clean.csv')\n",
    "print(score_file.head())\n",
    "\n",
    "# Step 2 & 3: Group by Subject_ID and get average score\n",
    "average_score_by_subject = score_file.groupby('Subject_ID')['Score'].mean().reset_index()\n",
    "\n",
    "# Step 4 : Sort by average score\n",
    "average_score_by_subject = average_score_by_subject.sort_values(by='Score', ascending=False)\n",
    "\n",
    "# Step 5 (Optional): Display result\n",
    "print(average_score_by_subject)\n"
   ]
  }
 ],
 "metadata": {},
 "nbformat": 4,
 "nbformat_minor": 5
}
