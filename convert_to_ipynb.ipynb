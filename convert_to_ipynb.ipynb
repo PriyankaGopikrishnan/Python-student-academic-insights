{
 "cells": [
  {
   "cell_type": "code",
   "execution_count": null,
   "id": "59d53236",
   "metadata": {},
   "outputs": [],
   "source": [
    "import os\n",
    "import nbformat\n",
    "from nbformat.v4 import new_notebook, new_code_cell\n",
    "\n",
    "source_dir = \".\"  # current folder\n",
    "\n",
    "for file in os.listdir(source_dir):\n",
    "    if file.endswith(\".py\"):\n",
    "        with open(file, 'r', encoding='utf-8') as f:\n",
    "            code = f.read()\n",
    "\n",
    "        notebook = new_notebook(cells=[new_code_cell(code)])\n",
    "        output_filename = file.replace('.py', '.ipynb')\n",
    "\n",
    "        with open(output_filename, 'w', encoding='utf-8') as f:\n",
    "            nbformat.write(notebook, f)\n",
    "\n",
    "        print(f\"✅ Converted {file} to {output_filename}\")\n"
   ]
  }
 ],
 "metadata": {},
 "nbformat": 4,
 "nbformat_minor": 5
}
